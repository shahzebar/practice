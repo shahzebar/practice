{
 "cells": [
  {
   "cell_type": "code",
   "execution_count": 6,
   "metadata": {},
   "outputs": [
    {
     "name": "stdout",
     "output_type": "stream",
     "text": [
      "Enter Marks of English90\n",
      "Enter Marks of Urdu90\n",
      "Enter Marks of Math90\n",
      "Enter Marks of computer90\n",
      "Enter Marks of Pak Studies90\n",
      "Your Percentage is  90\n",
      "Your Grade is A+\n"
     ]
    }
   ],
   "source": [
    "english = int(input(\"Enter Marks of English\"))\n",
    "urdu = int(input(\"Enter Marks of Urdu\"))\n",
    "maths = int(input(\"Enter Marks of Math\"))\n",
    "computer = int(input(\"Enter Marks of computer\"))\n",
    "pak_studies = int(input(\"Enter Marks of Pak Studies\"))\n",
    "\n",
    "marks_obtained= english+urdu+maths+computer+pak_studies\n",
    "total_marks = 500\n",
    "percentage = int(marks_obtained / total_marks*100)\n",
    "print(\"Your Percentage is \", percentage)\n",
    "\n",
    "if percentage >= 90 and percentage <= 100:\n",
    "    print(\"Your Grade is A+\")\n",
    "elif percentage >=80 and percentage <=90:\n",
    "    print(\"Your Grade is A\")\n",
    "elif percentage >=70 and percentage <=80:\n",
    "    print(\"Your Grade is B\")\n",
    "elif percentage >=60 and percentage <=70:\n",
    "    print(\"Your Grade is C\")\n",
    "elif percentage >=50 and percentage <=60:\n",
    "    print(\"Your Grade is D\")\n",
    "elif percentage >=40 and percentage <=50:\n",
    "    print(\"Your Grade is F\")\n",
    "elif percentage >=0 and percentage <=40:\n",
    "    print(\"You Fail\")\n",
    "else:\n",
    "    print(\"You Enter Invalid Percentage\")"
   ]
  },
  {
   "cell_type": "code",
   "execution_count": 7,
   "metadata": {},
   "outputs": [
    {
     "name": "stdout",
     "output_type": "stream",
     "text": [
      "Enter A Number78\n",
      "You Enter an Even Number\n"
     ]
    }
   ],
   "source": [
    "val = int(input(\"Enter A Number\"))\n",
    "if val%2 == 0:\n",
    "    print(\"You Enter an Even Number\")\n",
    "else:\n",
    "    print(\"You Enter an Odd Number\")"
   ]
  },
  {
   "cell_type": "code",
   "execution_count": 8,
   "metadata": {},
   "outputs": [
    {
     "name": "stdout",
     "output_type": "stream",
     "text": [
      "The Length of the List is 11\n"
     ]
    }
   ],
   "source": [
    "arr = [1, 1, 2, 3, 5, 8, 13, 21, 34, 55, 89]\n",
    "print(\"The Length of the List is \"+str(len(arr)))"
   ]
  },
  {
   "cell_type": "code",
   "execution_count": 9,
   "metadata": {},
   "outputs": [
    {
     "name": "stdout",
     "output_type": "stream",
     "text": [
      "Sum of List is 232\n"
     ]
    }
   ],
   "source": [
    "arr = [1, 1, 2, 3, 5, 8, 13, 21, 34, 55, 89]\n",
    "sum = 0\n",
    "\n",
    "for i in arr:\n",
    "    sum += i\n",
    "    \n",
    "print(\"Sum of List is \" +str(sum))"
   ]
  },
  {
   "cell_type": "code",
   "execution_count": 10,
   "metadata": {},
   "outputs": [
    {
     "name": "stdout",
     "output_type": "stream",
     "text": [
      "1\n",
      "1\n",
      "2\n",
      "3\n",
      "5\n"
     ]
    }
   ],
   "source": [
    "arr = [1, 1, 2, 3, 5, 8, 13, 21, 34, 55, 89]\n",
    "for i in arr:\n",
    "    if i <= 5:\n",
    "        print(i)"
   ]
  },
  {
   "cell_type": "code",
   "execution_count": 12,
   "metadata": {},
   "outputs": [
    {
     "name": "stdout",
     "output_type": "stream",
     "text": [
      "Largest number from a numeric list is 306\n"
     ]
    }
   ],
   "source": [
    "arr = [1, 10, 2, 30, 5, 8, 306, 21, 24, 45, 105]\n",
    "print(\"Largest number from a numeric list is \" + str(max(arr)))"
   ]
  },
  {
   "cell_type": "code",
   "execution_count": null,
   "metadata": {},
   "outputs": [],
   "source": []
  }
 ],
 "metadata": {
  "kernelspec": {
   "display_name": "Python 3",
   "language": "python",
   "name": "python3"
  },
  "language_info": {
   "codemirror_mode": {
    "name": "ipython",
    "version": 3
   },
   "file_extension": ".py",
   "mimetype": "text/x-python",
   "name": "python",
   "nbconvert_exporter": "python",
   "pygments_lexer": "ipython3",
   "version": "3.7.4"
  }
 },
 "nbformat": 4,
 "nbformat_minor": 2
}
