{
 "cells": [
  {
   "cell_type": "code",
   "execution_count": 1,
   "metadata": {},
   "outputs": [
    {
     "name": "stdout",
     "output_type": "stream",
     "text": [
      "Enter English Obtain Marks out of 100 / 95\n",
      "Enter Urdu Obtain Marks out of 100 / 97\n",
      "Enter Math Obtain Marks out of 100 / 100\n",
      "Enter Physics Obtain Marks out of 100 / 90\n",
      "Enter Computer Obtain Marks out of 100 / 80\n",
      "Your Grade is A+\n"
     ]
    }
   ],
   "source": [
    "\n",
    "    mark1 = int(input(\"Enter English Obtain Marks out of 100 / \"));\n",
    "    mark2 = int(input(\"Enter Urdu Obtain Marks out of 100 / \"));\n",
    "    mark3 = int(input(\"Enter Math Obtain Marks out of 100 / \"));\n",
    "    mark4 = int(input(\"Enter Physics Obtain Marks out of 100 / \"));\n",
    "    mark5 = int(input(\"Enter Computer Obtain Marks out of 100 / \"));\n",
    "    sum = mark1 + mark2 + mark3 + mark4 + mark5;\n",
    "    average = sum/5;\n",
    "    if(average>=91 and average<=100):\n",
    "        print(\"Your Grade is A+\");\n",
    "    elif(average>=81 and average<=90):\n",
    "        print(\"Your Grade is A\");\n",
    "    elif(average>=71 and average<=80):\n",
    "        print(\"Your Grade is B+\");\n",
    "    elif(average>=61 and average<=70):\n",
    "        print(\"Your Grade is B\");\n",
    "    elif(average>=51 and average<=60):\n",
    "        print(\"Your Grade is C+\");\n",
    "    elif(average>=41 and average<=50):\n",
    "        print(\"Your Grade is C\");\n",
    "    elif(average>=0 and average<=40):\n",
    "        print(\"Your Grade is F\");\n",
    "    else:\n",
    "        print(\"Strange Grade..!!\");"
   ]
  },
  {
   "cell_type": "code",
   "execution_count": null,
   "metadata": {},
   "outputs": [],
   "source": []
  }
 ],
 "metadata": {
  "kernelspec": {
   "display_name": "Python 3",
   "language": "python",
   "name": "python3"
  },
  "language_info": {
   "codemirror_mode": {
    "name": "ipython",
    "version": 3
   },
   "file_extension": ".py",
   "mimetype": "text/x-python",
   "name": "python",
   "nbconvert_exporter": "python",
   "pygments_lexer": "ipython3",
   "version": "3.7.4"
  }
 },
 "nbformat": 4,
 "nbformat_minor": 2
}
